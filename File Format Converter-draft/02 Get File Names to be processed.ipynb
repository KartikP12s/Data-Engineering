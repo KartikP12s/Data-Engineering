{
 "cells": [
  {
   "cell_type": "code",
   "execution_count": 10,
   "metadata": {},
   "outputs": [],
   "source": [
    "import glob"
   ]
  },
  {
   "cell_type": "code",
   "execution_count": 11,
   "metadata": {},
   "outputs": [
    {
     "data": {
      "text/plain": [
       "['data/retail_db/',\n",
       " 'data/retail_db/customers',\n",
       " 'data/retail_db/customers/part-00000',\n",
       " 'data/retail_db/products',\n",
       " 'data/retail_db/products/part-00000',\n",
       " 'data/retail_db/create_db_tables_pg.sql',\n",
       " 'data/retail_db/departments',\n",
       " 'data/retail_db/departments/part-00000',\n",
       " 'data/retail_db/order_items',\n",
       " 'data/retail_db/order_items/part-00000',\n",
       " 'data/retail_db/schemas.json',\n",
       " 'data/retail_db/orders',\n",
       " 'data/retail_db/orders/part-00000',\n",
       " 'data/retail_db/categories',\n",
       " 'data/retail_db/categories/part-00000',\n",
       " 'data/retail_db/load_db_tables_pg.sql']"
      ]
     },
     "execution_count": 11,
     "metadata": {},
     "output_type": "execute_result"
    }
   ],
   "source": [
    "glob.glob('data/retail_db/**',recursive=True)"
   ]
  },
  {
   "cell_type": "code",
   "execution_count": 12,
   "metadata": {},
   "outputs": [
    {
     "data": {
      "text/plain": [
       "['data/retail_db/customers/part-00000',\n",
       " 'data/retail_db/products/part-00000',\n",
       " 'data/retail_db/departments/part-00000',\n",
       " 'data/retail_db/order_items/part-00000',\n",
       " 'data/retail_db/orders/part-00000',\n",
       " 'data/retail_db/categories/part-00000']"
      ]
     },
     "execution_count": 12,
     "metadata": {},
     "output_type": "execute_result"
    }
   ],
   "source": [
    "glob.glob('data/retail_db/*/*')"
   ]
  },
  {
   "cell_type": "code",
   "execution_count": 13,
   "metadata": {},
   "outputs": [],
   "source": [
    "src_file_names=glob.glob('data/retail_db/*/part-*')"
   ]
  },
  {
   "cell_type": "code",
   "execution_count": 14,
   "metadata": {},
   "outputs": [
    {
     "data": {
      "text/plain": [
       "['data/retail_db/customers/part-00000',\n",
       " 'data/retail_db/products/part-00000',\n",
       " 'data/retail_db/departments/part-00000',\n",
       " 'data/retail_db/order_items/part-00000',\n",
       " 'data/retail_db/orders/part-00000',\n",
       " 'data/retail_db/categories/part-00000']"
      ]
     },
     "execution_count": 14,
     "metadata": {},
     "output_type": "execute_result"
    }
   ],
   "source": [
    "src_file_names"
   ]
  },
  {
   "cell_type": "code",
   "execution_count": 15,
   "metadata": {},
   "outputs": [],
   "source": [
    "import pandas as pd"
   ]
  },
  {
   "cell_type": "code",
   "execution_count": 16,
   "metadata": {},
   "outputs": [
    {
     "name": "stdout",
     "output_type": "stream",
     "text": [
      "Shape of data/retail_db/customers/part-00000 is (12435, 9)\n",
      "Shape of data/retail_db/products/part-00000 is (1345, 6)\n",
      "Shape of data/retail_db/departments/part-00000 is (6, 2)\n",
      "Shape of data/retail_db/order_items/part-00000 is (172198, 6)\n",
      "Shape of data/retail_db/orders/part-00000 is (68883, 4)\n",
      "Shape of data/retail_db/categories/part-00000 is (58, 3)\n"
     ]
    }
   ],
   "source": [
    "for each_file_name in src_file_names:\n",
    "    df=pd.read_csv(each_file_name, header=None)\n",
    "    print(f'Shape of {each_file_name} is {df.shape}')"
   ]
  }
 ],
 "metadata": {
  "kernelspec": {
   "display_name": "Python 3.12.2 ('.venv': venv)",
   "language": "python",
   "name": "python3"
  },
  "language_info": {
   "codemirror_mode": {
    "name": "ipython",
    "version": 3
   },
   "file_extension": ".py",
   "mimetype": "text/x-python",
   "name": "python",
   "nbconvert_exporter": "python",
   "pygments_lexer": "ipython3",
   "version": "3.12.2"
  },
  "orig_nbformat": 4,
  "vscode": {
   "interpreter": {
    "hash": "1d75fa12cd6a05b51e7fac08026415fddbd008611747824ef946895876ed3089"
   }
  }
 },
 "nbformat": 4,
 "nbformat_minor": 2
}
