{
 "cells": [
  {
   "cell_type": "code",
   "execution_count": 1,
   "metadata": {},
   "outputs": [],
   "source": [
    "import glob"
   ]
  },
  {
   "cell_type": "code",
   "execution_count": 2,
   "metadata": {},
   "outputs": [
    {
     "name": "stdout",
     "output_type": "stream",
     "text": [
      "['data', 'retail_db', 'customers', 'part-00000']\n",
      "['data', 'retail_db', 'products', 'part-00000']\n",
      "['data', 'retail_db', 'departments', 'part-00000']\n",
      "['data', 'retail_db', 'order_items', 'part-00000']\n",
      "['data', 'retail_db', 'orders', 'part-00000']\n",
      "['data', 'retail_db', 'categories', 'part-00000']\n"
     ]
    }
   ],
   "source": [
    "src_file_names=glob.glob('data/retail_db/*/part-*')\n",
    "for each_file in src_file_names:\n",
    "    print(each_file.split('/'))"
   ]
  },
  {
   "cell_type": "code",
   "execution_count": 9,
   "metadata": {},
   "outputs": [],
   "source": [
    "base_dir='data/retail_db_json/'\n",
    "file_name=src_file_names[-1]\n",
    "file_list= file_name.split('/')\n",
    "file_part=file_list[-1]\n",
    "ds_name=file_list[-2]"
   ]
  },
  {
   "cell_type": "code",
   "execution_count": 10,
   "metadata": {},
   "outputs": [
    {
     "name": "stdout",
     "output_type": "stream",
     "text": [
      "data/retail_db_json/categories/part-00000\n"
     ]
    }
   ],
   "source": [
    "json_path= f'{base_dir}{ds_name}/{file_part}'\n",
    "print(json_path)"
   ]
  },
  {
   "cell_type": "code",
   "execution_count": 11,
   "metadata": {},
   "outputs": [
    {
     "name": "stdout",
     "output_type": "stream",
     "text": [
      "data/retail_db_json/customers/part-00000\n",
      "data/retail_db_json/products/part-00000\n",
      "data/retail_db_json/departments/part-00000\n",
      "data/retail_db_json/order_items/part-00000\n",
      "data/retail_db_json/orders/part-00000\n",
      "data/retail_db_json/categories/part-00000\n"
     ]
    }
   ],
   "source": [
    "for each_file_name in src_file_names:\n",
    "    file_list= each_file_name.split('/')\n",
    "    file_part=file_list[-1]\n",
    "    ds_name=file_list[-2]\n",
    "    json_path= f'{base_dir}{ds_name}/{file_part}'\n",
    "    print(json_path)"
   ]
  }
 ],
 "metadata": {
  "kernelspec": {
   "display_name": "Python 3.12.2 ('.venv': venv)",
   "language": "python",
   "name": "python3"
  },
  "language_info": {
   "codemirror_mode": {
    "name": "ipython",
    "version": 3
   },
   "file_extension": ".py",
   "mimetype": "text/x-python",
   "name": "python",
   "nbconvert_exporter": "python",
   "pygments_lexer": "ipython3",
   "version": "3.12.2"
  },
  "orig_nbformat": 4,
  "vscode": {
   "interpreter": {
    "hash": "1d75fa12cd6a05b51e7fac08026415fddbd008611747824ef946895876ed3089"
   }
  }
 },
 "nbformat": 4,
 "nbformat_minor": 2
}
