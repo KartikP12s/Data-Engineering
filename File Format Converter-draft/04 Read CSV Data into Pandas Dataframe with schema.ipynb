{
 "cells": [
  {
   "cell_type": "code",
   "execution_count": 1,
   "metadata": {},
   "outputs": [],
   "source": [
    "import json"
   ]
  },
  {
   "cell_type": "code",
   "execution_count": 2,
   "metadata": {},
   "outputs": [],
   "source": [
    "def get_column_names(schemas, ds_name, sorting_key='column_position'):\n",
    "    column_details=schemas[ds_name]\n",
    "    columns=sorted(column_details, key=lambda col: col[sorting_key])\n",
    "    return [col['column_name'] for col in columns]"
   ]
  },
  {
   "cell_type": "code",
   "execution_count": 3,
   "metadata": {},
   "outputs": [],
   "source": [
    "schemas= json.load(open('data/retail_db/schemas.json'))"
   ]
  },
  {
   "cell_type": "code",
   "execution_count": 4,
   "metadata": {},
   "outputs": [],
   "source": [
    "import glob"
   ]
  },
  {
   "cell_type": "code",
   "execution_count": 6,
   "metadata": {},
   "outputs": [
    {
     "data": {
      "text/plain": [
       "['data/retail_db/customers/part-00000',\n",
       " 'data/retail_db/products/part-00000',\n",
       " 'data/retail_db/departments/part-00000',\n",
       " 'data/retail_db/order_items/part-00000',\n",
       " 'data/retail_db/orders/part-00000',\n",
       " 'data/retail_db/categories/part-00000']"
      ]
     },
     "execution_count": 6,
     "metadata": {},
     "output_type": "execute_result"
    }
   ],
   "source": [
    "src_file_names=glob.glob('data/retail_db/*/part-*')\n",
    "src_file_names"
   ]
  },
  {
   "cell_type": "code",
   "execution_count": 7,
   "metadata": {},
   "outputs": [],
   "source": [
    "import pandas as pd"
   ]
  },
  {
   "cell_type": "code",
   "execution_count": 8,
   "metadata": {},
   "outputs": [
    {
     "name": "stdout",
     "output_type": "stream",
     "text": [
      "['data', 'retail_db', 'customers', 'part-00000']\n",
      "['data', 'retail_db', 'products', 'part-00000']\n",
      "['data', 'retail_db', 'departments', 'part-00000']\n",
      "['data', 'retail_db', 'order_items', 'part-00000']\n",
      "['data', 'retail_db', 'orders', 'part-00000']\n",
      "['data', 'retail_db', 'categories', 'part-00000']\n"
     ]
    }
   ],
   "source": [
    "for each_file in src_file_names:\n",
    "    print(each_file.split('/'))"
   ]
  },
  {
   "cell_type": "code",
   "execution_count": 24,
   "metadata": {},
   "outputs": [],
   "source": [
    "file= src_file_names[-1]\n",
    "file_details=file.split('/')\n",
    "ds_name=file_details[-2]\n",
    "columns = get_column_names(schemas,ds_name)\n"
   ]
  },
  {
   "cell_type": "code",
   "execution_count": 26,
   "metadata": {},
   "outputs": [
    {
     "data": {
      "text/plain": [
       "(58, 3)"
      ]
     },
     "execution_count": 26,
     "metadata": {},
     "output_type": "execute_result"
    }
   ],
   "source": [
    "df=pd.read_csv(file,names=columns)\n",
    "df.shape"
   ]
  },
  {
   "cell_type": "code",
   "execution_count": 27,
   "metadata": {},
   "outputs": [
    {
     "name": "stdout",
     "output_type": "stream",
     "text": [
      "Processing data/retail_db/customers/part-00000\n",
      "Shape of data/retail_db/customers/part-00000 is (12435, 9)\n",
      "Processing data/retail_db/products/part-00000\n",
      "Shape of data/retail_db/products/part-00000 is (1345, 6)\n",
      "Processing data/retail_db/departments/part-00000\n",
      "Shape of data/retail_db/departments/part-00000 is (6, 2)\n",
      "Processing data/retail_db/order_items/part-00000\n",
      "Shape of data/retail_db/order_items/part-00000 is (172198, 6)\n",
      "Processing data/retail_db/orders/part-00000\n",
      "Shape of data/retail_db/orders/part-00000 is (68883, 4)\n",
      "Processing data/retail_db/categories/part-00000\n",
      "Shape of data/retail_db/categories/part-00000 is (58, 3)\n"
     ]
    }
   ],
   "source": [
    "for each_file_name in src_file_names:\n",
    "    print(f'Processing {each_file_name}')\n",
    "    file_list= each_file_name.split('/')\n",
    "    ds_name=file_list[-2]\n",
    "    columns=get_column_names(schemas,ds_name)\n",
    "    df=pd.read_csv(each_file_name, names=columns)\n",
    "    print(f'Shape of {each_file_name} is {df.shape}')"
   ]
  }
 ],
 "metadata": {
  "kernelspec": {
   "display_name": "Python 3.12.2 ('.venv': venv)",
   "language": "python",
   "name": "python3"
  },
  "language_info": {
   "codemirror_mode": {
    "name": "ipython",
    "version": 3
   },
   "file_extension": ".py",
   "mimetype": "text/x-python",
   "name": "python",
   "nbconvert_exporter": "python",
   "pygments_lexer": "ipython3",
   "version": "3.12.2"
  },
  "orig_nbformat": 4,
  "vscode": {
   "interpreter": {
    "hash": "1d75fa12cd6a05b51e7fac08026415fddbd008611747824ef946895876ed3089"
   }
  }
 },
 "nbformat": 4,
 "nbformat_minor": 2
}
